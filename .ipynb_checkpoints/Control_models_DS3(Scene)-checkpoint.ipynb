{
 "cells": [
  {
   "cell_type": "code",
   "execution_count": 3,
   "metadata": {
    "collapsed": true
   },
   "outputs": [],
   "source": [
    "import numpy as np\n",
    "import warnings\n",
    "import sys\n",
    "import pandas as pd\n",
    "import scipy\n",
    "from scipy.io import arff\n",
    "if not sys.warnoptions:\n",
    "    warnings.simplefilter(\"ignore\")\n"
   ]
  },
  {
   "cell_type": "code",
   "execution_count": 4,
   "metadata": {
    "scrolled": true
   },
   "outputs": [
    {
     "data": {
      "text/html": [
       "<div>\n",
       "<style>\n",
       "    .dataframe thead tr:only-child th {\n",
       "        text-align: right;\n",
       "    }\n",
       "\n",
       "    .dataframe thead th {\n",
       "        text-align: left;\n",
       "    }\n",
       "\n",
       "    .dataframe tbody tr th {\n",
       "        vertical-align: top;\n",
       "    }\n",
       "</style>\n",
       "<table border=\"1\" class=\"dataframe\">\n",
       "  <thead>\n",
       "    <tr style=\"text-align: right;\">\n",
       "      <th></th>\n",
       "      <th>Att1</th>\n",
       "      <th>Att2</th>\n",
       "      <th>Att3</th>\n",
       "      <th>Att4</th>\n",
       "      <th>Att5</th>\n",
       "      <th>Att6</th>\n",
       "      <th>Att7</th>\n",
       "      <th>Att8</th>\n",
       "      <th>Att9</th>\n",
       "      <th>Att10</th>\n",
       "      <th>...</th>\n",
       "      <th>Att291</th>\n",
       "      <th>Att292</th>\n",
       "      <th>Att293</th>\n",
       "      <th>Att294</th>\n",
       "      <th>Beach</th>\n",
       "      <th>Sunset</th>\n",
       "      <th>FallFoliage</th>\n",
       "      <th>Field</th>\n",
       "      <th>Mountain</th>\n",
       "      <th>Urban</th>\n",
       "    </tr>\n",
       "  </thead>\n",
       "  <tbody>\n",
       "    <tr>\n",
       "      <th>0</th>\n",
       "      <td>0.983225</td>\n",
       "      <td>0.981488</td>\n",
       "      <td>0.978542</td>\n",
       "      <td>0.975908</td>\n",
       "      <td>0.972962</td>\n",
       "      <td>0.968367</td>\n",
       "      <td>0.965900</td>\n",
       "      <td>0.938807</td>\n",
       "      <td>0.888701</td>\n",
       "      <td>0.862884</td>\n",
       "      <td>...</td>\n",
       "      <td>0.002494</td>\n",
       "      <td>0.012225</td>\n",
       "      <td>0.045861</td>\n",
       "      <td>0.094455</td>\n",
       "      <td>b'1'</td>\n",
       "      <td>b'0'</td>\n",
       "      <td>b'0'</td>\n",
       "      <td>b'0'</td>\n",
       "      <td>b'1'</td>\n",
       "      <td>b'0'</td>\n",
       "    </tr>\n",
       "    <tr>\n",
       "      <th>1</th>\n",
       "      <td>0.018160</td>\n",
       "      <td>0.074481</td>\n",
       "      <td>0.369500</td>\n",
       "      <td>0.454558</td>\n",
       "      <td>0.423218</td>\n",
       "      <td>0.379960</td>\n",
       "      <td>0.661803</td>\n",
       "      <td>0.653965</td>\n",
       "      <td>0.666010</td>\n",
       "      <td>0.671838</td>\n",
       "      <td>...</td>\n",
       "      <td>0.005567</td>\n",
       "      <td>0.014649</td>\n",
       "      <td>0.025994</td>\n",
       "      <td>0.024701</td>\n",
       "      <td>b'1'</td>\n",
       "      <td>b'0'</td>\n",
       "      <td>b'0'</td>\n",
       "      <td>b'0'</td>\n",
       "      <td>b'0'</td>\n",
       "      <td>b'0'</td>\n",
       "    </tr>\n",
       "    <tr>\n",
       "      <th>2</th>\n",
       "      <td>0.762800</td>\n",
       "      <td>0.791230</td>\n",
       "      <td>0.799371</td>\n",
       "      <td>0.795679</td>\n",
       "      <td>0.779932</td>\n",
       "      <td>0.756109</td>\n",
       "      <td>0.719042</td>\n",
       "      <td>0.877675</td>\n",
       "      <td>0.907015</td>\n",
       "      <td>0.919592</td>\n",
       "      <td>...</td>\n",
       "      <td>0.040818</td>\n",
       "      <td>0.051593</td>\n",
       "      <td>0.057795</td>\n",
       "      <td>0.057418</td>\n",
       "      <td>b'1'</td>\n",
       "      <td>b'0'</td>\n",
       "      <td>b'0'</td>\n",
       "      <td>b'0'</td>\n",
       "      <td>b'0'</td>\n",
       "      <td>b'0'</td>\n",
       "    </tr>\n",
       "    <tr>\n",
       "      <th>3</th>\n",
       "      <td>0.758518</td>\n",
       "      <td>0.738699</td>\n",
       "      <td>0.709982</td>\n",
       "      <td>0.686717</td>\n",
       "      <td>0.694709</td>\n",
       "      <td>0.687867</td>\n",
       "      <td>0.461537</td>\n",
       "      <td>0.852653</td>\n",
       "      <td>0.831340</td>\n",
       "      <td>0.798184</td>\n",
       "      <td>...</td>\n",
       "      <td>0.599021</td>\n",
       "      <td>0.068253</td>\n",
       "      <td>0.061698</td>\n",
       "      <td>0.053979</td>\n",
       "      <td>b'1'</td>\n",
       "      <td>b'0'</td>\n",
       "      <td>b'0'</td>\n",
       "      <td>b'0'</td>\n",
       "      <td>b'1'</td>\n",
       "      <td>b'0'</td>\n",
       "    </tr>\n",
       "    <tr>\n",
       "      <th>4</th>\n",
       "      <td>0.948445</td>\n",
       "      <td>0.969889</td>\n",
       "      <td>0.965691</td>\n",
       "      <td>0.969223</td>\n",
       "      <td>0.969579</td>\n",
       "      <td>0.966511</td>\n",
       "      <td>0.949118</td>\n",
       "      <td>0.823672</td>\n",
       "      <td>0.853659</td>\n",
       "      <td>0.857751</td>\n",
       "      <td>...</td>\n",
       "      <td>0.001599</td>\n",
       "      <td>0.000875</td>\n",
       "      <td>0.000813</td>\n",
       "      <td>0.003186</td>\n",
       "      <td>b'1'</td>\n",
       "      <td>b'0'</td>\n",
       "      <td>b'0'</td>\n",
       "      <td>b'0'</td>\n",
       "      <td>b'0'</td>\n",
       "      <td>b'0'</td>\n",
       "    </tr>\n",
       "  </tbody>\n",
       "</table>\n",
       "<p>5 rows × 300 columns</p>\n",
       "</div>"
      ],
      "text/plain": [
       "       Att1      Att2      Att3      Att4      Att5      Att6      Att7  \\\n",
       "0  0.983225  0.981488  0.978542  0.975908  0.972962  0.968367  0.965900   \n",
       "1  0.018160  0.074481  0.369500  0.454558  0.423218  0.379960  0.661803   \n",
       "2  0.762800  0.791230  0.799371  0.795679  0.779932  0.756109  0.719042   \n",
       "3  0.758518  0.738699  0.709982  0.686717  0.694709  0.687867  0.461537   \n",
       "4  0.948445  0.969889  0.965691  0.969223  0.969579  0.966511  0.949118   \n",
       "\n",
       "       Att8      Att9     Att10  ...      Att291    Att292    Att293  \\\n",
       "0  0.938807  0.888701  0.862884  ...    0.002494  0.012225  0.045861   \n",
       "1  0.653965  0.666010  0.671838  ...    0.005567  0.014649  0.025994   \n",
       "2  0.877675  0.907015  0.919592  ...    0.040818  0.051593  0.057795   \n",
       "3  0.852653  0.831340  0.798184  ...    0.599021  0.068253  0.061698   \n",
       "4  0.823672  0.853659  0.857751  ...    0.001599  0.000875  0.000813   \n",
       "\n",
       "     Att294  Beach  Sunset  FallFoliage  Field  Mountain  Urban  \n",
       "0  0.094455   b'1'    b'0'         b'0'   b'0'      b'1'   b'0'  \n",
       "1  0.024701   b'1'    b'0'         b'0'   b'0'      b'0'   b'0'  \n",
       "2  0.057418   b'1'    b'0'         b'0'   b'0'      b'0'   b'0'  \n",
       "3  0.053979   b'1'    b'0'         b'0'   b'0'      b'1'   b'0'  \n",
       "4  0.003186   b'1'    b'0'         b'0'   b'0'      b'0'   b'0'  \n",
       "\n",
       "[5 rows x 300 columns]"
      ]
     },
     "execution_count": 4,
     "metadata": {},
     "output_type": "execute_result"
    }
   ],
   "source": [
    "data_train, meta = scipy.io.arff.loadarff('scene-train.arff')\n",
    "df_train = pd.DataFrame(data_train)\n",
    "data_test, meta = scipy.io.arff.loadarff('scene-test.arff')\n",
    "df_test = pd.DataFrame(data_test)\n",
    "df_test.head()"
   ]
  },
  {
   "cell_type": "code",
   "execution_count": 5,
   "metadata": {
    "collapsed": true
   },
   "outputs": [],
   "source": [
    "X_train = df_train.iloc[:,:-6].values\n",
    "y_train = df_train.iloc[:,-6:].values.astype(int)\n",
    "X_test = df_test.iloc[:,:-6].values\n",
    "y_test = df_test.iloc[:,-6:].values.astype(int)"
   ]
  },
  {
   "cell_type": "code",
   "execution_count": 6,
   "metadata": {},
   "outputs": [
    {
     "name": "stdout",
     "output_type": "stream",
     "text": [
      "Train_X:  (1211, 294)\n",
      "Train_Y:  (1211, 6)\n",
      "Test_X:  (1196, 294)\n",
      "Test_Y:  (1196, 6)\n"
     ]
    }
   ],
   "source": [
    "print(\"Train_X: \",X_train.shape)\n",
    "print(\"Train_Y: \",y_train.shape)\n",
    "print(\"Test_X: \",X_test.shape)\n",
    "print(\"Test_Y: \",y_test.shape)"
   ]
  },
  {
   "cell_type": "markdown",
   "metadata": {},
   "source": [
    "## Accuracy Score\n"
   ]
  },
  {
   "cell_type": "code",
   "execution_count": 7,
   "metadata": {
    "collapsed": true
   },
   "outputs": [],
   "source": [
    "def hamming_accuracy_score(y_true, y_pred, normalize=True, sample_weight=None):\n",
    "    '''\n",
    "    Compute the Hamming score (a.k.a. label-based accuracy) for the multi-label case\n",
    "    http://stackoverflow.com/q/32239577/395857\n",
    "    '''\n",
    "    acc_list = []\n",
    "    for i in range(y_true.shape[0]):\n",
    "        set_true = set( np.where(y_true[i])[0] )\n",
    "        set_pred = set( np.where(y_pred[i])[0] )\n",
    "        #print('\\nset_true: {0}'.format(set_true))\n",
    "        #print('set_pred: {0}'.format(set_pred))\n",
    "        tmp_a = None\n",
    "        if len(set_true) == 0 and len(set_pred) == 0:\n",
    "            tmp_a = 1\n",
    "        else:\n",
    "            tmp_a = len(set_true.intersection(set_pred))/float( len(set_true.union(set_pred)) )\n",
    "        #print('tmp_a: {0}'.format(tmp_a))\n",
    "        acc_list.append(tmp_a)\n",
    "    return np.mean(acc_list)"
   ]
  },
  {
   "cell_type": "markdown",
   "metadata": {},
   "source": [
    "## MODEL 1: Chain Classifier of LR"
   ]
  },
  {
   "cell_type": "code",
   "execution_count": 8,
   "metadata": {
    "collapsed": true
   },
   "outputs": [],
   "source": [
    "from sklearn.metrics import hamming_loss, log_loss, f1_score, accuracy_score"
   ]
  },
  {
   "cell_type": "code",
   "execution_count": 10,
   "metadata": {
    "collapsed": true
   },
   "outputs": [],
   "source": [
    "# using classifier chains\n",
    "from skmultilearn.problem_transform import ClassifierChain\n",
    "from sklearn.svm import SVC\n",
    "# initialize classifier chains multi-label classifier\n",
    "classifier = ClassifierChain(classifier= SVC(kernel='linear'))\n",
    "\n",
    "# Training logistic regression model on train data\n",
    "classifier.fit(X_train, y_train)\n",
    "\n",
    "# predict\n",
    "predictions = classifier.predict(X_test)"
   ]
  },
  {
   "cell_type": "code",
   "execution_count": 11,
   "metadata": {},
   "outputs": [
    {
     "name": "stdout",
     "output_type": "stream",
     "text": [
      "Accuracy =  0.611204013378\n",
      "Hamming accuracy =  0.659420289855\n",
      "Hamming loss =  0.11580267558528429\n",
      "Log loss =  12.7459829616\n",
      "F1 score =  0.682575521853\n"
     ]
    }
   ],
   "source": [
    "# accuracy\n",
    "print(\"Accuracy = \",accuracy_score(y_test,predictions.toarray()))\n",
    "print(\"Hamming accuracy = \",hamming_accuracy_score(y_test,predictions.toarray()))\n",
    "print(\"Hamming loss = \",hamming_loss(y_test,predictions))\n",
    "print(\"Log loss = \",log_loss(y_test,predictions.toarray()))\n",
    "print(\"F1 score = \",f1_score(y_test,predictions.toarray(),average='macro'))"
   ]
  },
  {
   "cell_type": "markdown",
   "metadata": {},
   "source": [
    "## Model 2: Multi-lable Lazy Learning"
   ]
  },
  {
   "cell_type": "code",
   "execution_count": 12,
   "metadata": {
    "collapsed": true
   },
   "outputs": [],
   "source": [
    "from skmultilearn.adapt import MLkNN\n",
    "from scipy.sparse import csr_matrix, lil_matrix\n",
    "classifier_new = MLkNN(k=10)\n",
    "# Note that this classifier can throw up errors when handling sparse matrices.\n",
    "x_train = lil_matrix(X_train).toarray()\n",
    "y_train = lil_matrix(y_train).toarray()\n",
    "x_test = lil_matrix(X_test).toarray()\n",
    "# train\n",
    "classifier_new.fit(X_train, y_train)\n",
    "# predict\n",
    "predictions = classifier_new.predict(X_test)"
   ]
  },
  {
   "cell_type": "code",
   "execution_count": 13,
   "metadata": {
    "scrolled": true
   },
   "outputs": [
    {
     "name": "stdout",
     "output_type": "stream",
     "text": [
      "Accuracy =  0.605351170569\n",
      "Hamming accuracy =  0.651477146042\n",
      "Hamming loss =  0.09002229654403568\n",
      "Log loss =  6.76991680741\n",
      "F1 score =  0.72405849133\n"
     ]
    }
   ],
   "source": [
    "# accuracy\n",
    "print(\"Accuracy = \",accuracy_score(y_test,predictions.toarray()))\n",
    "print(\"Hamming accuracy = \",hamming_accuracy_score(y_test,predictions.toarray()))\n",
    "print(\"Hamming loss = \",hamming_loss(y_test,predictions))\n",
    "print(\"Log loss = \",log_loss(y_test,predictions.toarray()))\n",
    "print(\"F1 score = \",f1_score(y_test,predictions.toarray(),average='macro'))"
   ]
  },
  {
   "cell_type": "markdown",
   "metadata": {},
   "source": [
    "## Model 3: Classic ANN"
   ]
  },
  {
   "cell_type": "code",
   "execution_count": 53,
   "metadata": {},
   "outputs": [
    {
     "name": "stdout",
     "output_type": "stream",
     "text": [
      "_________________________________________________________________\n",
      "Layer (type)                 Output Shape              Param #   \n",
      "=================================================================\n",
      "dense_1 (Dense)              (None, 512)               151040    \n",
      "_________________________________________________________________\n",
      "dropout_1 (Dropout)          (None, 512)               0         \n",
      "_________________________________________________________________\n",
      "dense_2 (Dense)              (None, 256)               131328    \n",
      "_________________________________________________________________\n",
      "dropout_2 (Dropout)          (None, 256)               0         \n",
      "_________________________________________________________________\n",
      "dense_3 (Dense)              (None, 6)                 1542      \n",
      "=================================================================\n",
      "Total params: 283,910\n",
      "Trainable params: 283,910\n",
      "Non-trainable params: 0\n",
      "_________________________________________________________________\n"
     ]
    }
   ],
   "source": [
    "import os\n",
    "os.environ['CUDA_VISIBLE_DIVICES'] = '-1'\n",
    "import keras\n",
    "from keras.models import Sequential\n",
    "from keras.layers import Dense,Dropout\n",
    "from keras.backend.tensorflow_backend import clear_session\n",
    "clear_session()\n",
    "model = Sequential()\n",
    "model.add(Dense(512,activation='relu',input_shape=(X_train.shape[1],),kernel_initializer='glorot_uniform'))\n",
    "model.add(Dropout(0.4))\n",
    "model.add(Dense(256,activation='relu',kernel_initializer='glorot_uniform'))\n",
    "model.add(Dropout(0.4))\n",
    "model.add(Dense(y_train.shape[1],activation='sigmoid',kernel_initializer='glorot_uniform'))\n",
    "model.compile(loss='binary_crossentropy', optimizer='adagrad', metrics=['acc'])\n",
    "model.summary()"
   ]
  },
  {
   "cell_type": "code",
   "execution_count": 65,
   "metadata": {},
   "outputs": [
    {
     "name": "stdout",
     "output_type": "stream",
     "text": [
      "Train on 1211 samples, validate on 1196 samples\n",
      "Epoch 1/5\n",
      "1211/1211 [==============================] - 0s 170us/step - loss: 0.1514 - acc: 0.9359 - val_loss: 0.2185 - val_acc: 0.9114\n",
      "Epoch 2/5\n",
      "1211/1211 [==============================] - 0s 173us/step - loss: 0.1461 - acc: 0.9444 - val_loss: 0.2170 - val_acc: 0.9115\n",
      "Epoch 3/5\n",
      "1211/1211 [==============================] - 0s 183us/step - loss: 0.1420 - acc: 0.9418 - val_loss: 0.2345 - val_acc: 0.9001\n",
      "Epoch 4/5\n",
      "1211/1211 [==============================] - 0s 171us/step - loss: 0.1404 - acc: 0.9456 - val_loss: 0.2453 - val_acc: 0.8981\n",
      "Epoch 5/5\n",
      "1211/1211 [==============================] - 0s 156us/step - loss: 0.1463 - acc: 0.9436 - val_loss: 0.2429 - val_acc: 0.8980\n"
     ]
    },
    {
     "data": {
      "text/plain": [
       "<keras.callbacks.History at 0x1ea9f690eb8>"
      ]
     },
     "execution_count": 65,
     "metadata": {},
     "output_type": "execute_result"
    }
   ],
   "source": [
    "model.fit(x=X_train,y=y_train,epochs=5,batch_size=50,validation_data=(x_test,y_test))"
   ]
  },
  {
   "cell_type": "code",
   "execution_count": 66,
   "metadata": {},
   "outputs": [
    {
     "name": "stdout",
     "output_type": "stream",
     "text": [
      "Accuracy =  0.663740245262\n",
      "Hamming loss =  0.1020066889632107\n",
      "Log loss =  9.42201292523\n",
      "F1 score =  0.715475620991\n"
     ]
    }
   ],
   "source": [
    "#Predictions\n",
    "predictions = model.predict(x_test)\n",
    "predictions = np.array([list(np.round(x).astype(int)) for x in predictions])\n",
    "# accuracy\n",
    "print(\"Accuracy = \",accuracy_score(y_test,predictions))\n",
    "print(\"Hamming loss = \",hamming_loss(y_test,predictions))\n",
    "print(\"Log loss = \",log_loss(y_test,predictions))\n",
    "print(\"F1 score = \",f1_score(y_test,predictions,average='macro'))"
   ]
  },
  {
   "cell_type": "code",
   "execution_count": null,
   "metadata": {
    "collapsed": true
   },
   "outputs": [],
   "source": []
  }
 ],
 "metadata": {
  "kernelspec": {
   "display_name": "Python 3",
   "language": "python",
   "name": "python3"
  },
  "language_info": {
   "codemirror_mode": {
    "name": "ipython",
    "version": 3
   },
   "file_extension": ".py",
   "mimetype": "text/x-python",
   "name": "python",
   "nbconvert_exporter": "python",
   "pygments_lexer": "ipython3",
   "version": "3.6.3"
  }
 },
 "nbformat": 4,
 "nbformat_minor": 2
}
