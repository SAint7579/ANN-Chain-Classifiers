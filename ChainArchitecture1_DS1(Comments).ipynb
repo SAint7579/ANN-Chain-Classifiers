{
 "cells": [
  {
   "cell_type": "code",
   "execution_count": 1,
   "metadata": {
    "collapsed": true
   },
   "outputs": [],
   "source": [
    "import numpy as np\n",
    "import pandas as pd\n",
    "import matplotlib.pyplot as plt"
   ]
  },
  {
   "cell_type": "code",
   "execution_count": 2,
   "metadata": {
    "collapsed": true
   },
   "outputs": [],
   "source": [
    "data_raw = pd.read_csv('dataset1_comments.csv')\n",
    "#data_raw = data_raw.loc[np.random.choice(data_raw.index, size=2000)]\n",
    "data = data_raw\n",
    "data = data_raw.loc[np.random.choice(data_raw.index, size=2000)]\n",
    "data.shape\n",
    "import nltk\n",
    "from nltk.corpus import stopwords\n",
    "from nltk.stem.snowball import SnowballStemmer\n",
    "import re\n",
    "\n",
    "import sys\n",
    "import warnings\n",
    "\n",
    "if not sys.warnoptions:\n",
    "    warnings.simplefilter(\"ignore\")"
   ]
  },
  {
   "cell_type": "code",
   "execution_count": 3,
   "metadata": {
    "collapsed": true
   },
   "outputs": [],
   "source": [
    "def cleanHtml(sentence):\n",
    "    cleanr = re.compile('<.*?>')\n",
    "    cleantext = re.sub(cleanr, ' ', str(sentence))\n",
    "    return cleantext\n",
    "\n",
    "\n",
    "def cleanPunc(sentence): #function to clean the word of any punctuation or special characters\n",
    "    cleaned = re.sub(r'[?|!|\\'|\"|#]',r'',sentence)\n",
    "    cleaned = re.sub(r'[.|,|)|(|\\|/]',r' ',cleaned)\n",
    "    cleaned = cleaned.strip()\n",
    "    cleaned = cleaned.replace(\"\\n\",\" \")\n",
    "    return cleaned\n",
    "\n",
    "\n",
    "def keepAlpha(sentence):\n",
    "    alpha_sent = \"\"\n",
    "    for word in sentence.split():\n",
    "        alpha_word = re.sub('[^a-z A-Z]+', ' ', word)\n",
    "        alpha_sent += alpha_word\n",
    "        alpha_sent += \" \"\n",
    "    alpha_sent = alpha_sent.strip()\n",
    "    return alpha_sent"
   ]
  },
  {
   "cell_type": "code",
   "execution_count": 4,
   "metadata": {
    "collapsed": true
   },
   "outputs": [],
   "source": [
    "data['comment_text'] = data['comment_text'].str.lower()\n",
    "data['comment_text'] = data['comment_text'].apply(cleanHtml)\n",
    "data['comment_text'] = data['comment_text'].apply(cleanPunc)\n",
    "data['comment_text'] = data['comment_text'].apply(keepAlpha)\n",
    "stop_words = set(stopwords.words('english'))\n",
    "stop_words.update(['zero','one','two','three','four','five','six','seven','eight','nine','ten','may','also','across','among','beside','however','yet','within'])\n",
    "re_stop_words = re.compile(r\"\\b(\" + \"|\".join(stop_words) + \")\\\\W\", re.I)\n",
    "def removeStopWords(sentence):\n",
    "    global re_stop_words\n",
    "    return re_stop_words.sub(\" \", sentence)\n",
    "\n",
    "data['comment_text'] = data['comment_text'].apply(removeStopWords)\n",
    "stemmer = SnowballStemmer(\"english\")\n",
    "def stemming(sentence):\n",
    "    stemSentence = \"\"\n",
    "    for word in sentence.split():\n",
    "        stem = stemmer.stem(word)\n",
    "        stemSentence += stem\n",
    "        stemSentence += \" \"\n",
    "    stemSentence = stemSentence.strip()\n",
    "    return stemSentence\n",
    "\n",
    "data['comment_text'] = data['comment_text'].apply(stemming)"
   ]
  },
  {
   "cell_type": "code",
   "execution_count": 25,
   "metadata": {
    "collapsed": true
   },
   "outputs": [],
   "source": [
    "from sklearn.model_selection import train_test_split\n",
    "train, test = train_test_split(data, random_state=42, test_size=0.30, shuffle=True)\n",
    "\n",
    "train_text = train['comment_text']\n",
    "test_text = test['comment_text']\n",
    "\n",
    "\n",
    "from sklearn.feature_extraction.text import TfidfVectorizer\n",
    "vectorizer = TfidfVectorizer(strip_accents='unicode', analyzer='word', ngram_range=(1,3), norm='l2',max_features=5000)\n",
    "vectorizer.fit(train_text)\n",
    "vectorizer.fit(test_text)\n",
    "\n",
    "X_train = vectorizer.transform(train_text).toarray()\n",
    "y_train = train.drop(labels = ['id','comment_text'], axis=1).values\n",
    "\n",
    "X_test = vectorizer.transform(test_text).toarray()\n",
    "y_test = test.drop(labels = ['id','comment_text'], axis=1).values"
   ]
  },
  {
   "cell_type": "code",
   "execution_count": 26,
   "metadata": {},
   "outputs": [
    {
     "name": "stdout",
     "output_type": "stream",
     "text": [
      "(1400, 5000)\n",
      "(1400, 6)\n",
      "(600, 5000)\n",
      "(600, 6)\n"
     ]
    }
   ],
   "source": [
    "print(X_train.shape)\n",
    "print(y_train.shape)\n",
    "print(X_test.shape)\n",
    "print(y_test.shape)"
   ]
  },
  {
   "cell_type": "code",
   "execution_count": 27,
   "metadata": {
    "collapsed": true
   },
   "outputs": [],
   "source": [
    "def hamming_accuracy_score(y_true, y_pred, normalize=True, sample_weight=None):\n",
    "    '''\n",
    "    Compute the Hamming score (a.k.a. label-based accuracy) for the multi-label case\n",
    "    http://stackoverflow.com/q/32239577/395857\n",
    "    '''\n",
    "    acc_list = []\n",
    "    for i in range(y_true.shape[0]):\n",
    "        set_true = set( np.where(y_true[i])[0] )\n",
    "        set_pred = set( np.where(y_pred[i])[0] )\n",
    "        #print('\\nset_true: {0}'.format(set_true))\n",
    "        #print('set_pred: {0}'.format(set_pred))\n",
    "        tmp_a = None\n",
    "        if len(set_true) == 0 and len(set_pred) == 0:\n",
    "            tmp_a = 1\n",
    "        else:\n",
    "            tmp_a = len(set_true.intersection(set_pred))/float( len(set_true.union(set_pred)) )\n",
    "        #print('tmp_a: {0}'.format(tmp_a))\n",
    "        acc_list.append(tmp_a)\n",
    "    return np.mean(acc_list)"
   ]
  },
  {
   "cell_type": "markdown",
   "metadata": {},
   "source": [
    "## Chain Model type 1\n"
   ]
  },
  {
   "cell_type": "code",
   "execution_count": 28,
   "metadata": {
    "collapsed": true
   },
   "outputs": [],
   "source": [
    "import keras\n",
    "from keras.models import Sequential\n",
    "from keras.layers import Dense,Dropout\n",
    "from keras.backend.tensorflow_backend import clear_session\n",
    "clear_session()"
   ]
  },
  {
   "cell_type": "code",
   "execution_count": 29,
   "metadata": {
    "collapsed": true
   },
   "outputs": [],
   "source": [
    "def create_c1node(X_feed,y_now):\n",
    "    '''\n",
    "    C1 node Architecture:\n",
    "    attribute:512:256:1 [saperate for each class]\n",
    "    loss: Binary crossentropy\n",
    "    '''\n",
    "    model = Sequential()\n",
    "    model.add(Dense(512,activation='relu',input_shape=(X_feed.shape[1],),kernel_initializer='glorot_uniform'))\n",
    "    model.add(Dropout(0.4))\n",
    "    model.add(Dense(256,activation='relu',kernel_initializer='glorot_uniform'))\n",
    "    model.add(Dropout(0.4))\n",
    "    model.add(Dense(y_now.shape[1],activation='sigmoid',kernel_initializer='glorot_uniform'))\n",
    "    model.compile(loss='binary_crossentropy', optimizer='adam', metrics=['acc'])\n",
    "    \n",
    "    return model"
   ]
  },
  {
   "cell_type": "code",
   "execution_count": 30,
   "metadata": {},
   "outputs": [
    {
     "name": "stdout",
     "output_type": "stream",
     "text": [
      "Training chain node  0\n",
      "Shapes:\n",
      " X = (1400, 5000) \n",
      " Y = (1400, 1)\n",
      "Epoch 1/5\n",
      "1400/1400 [==============================] - 2s 1ms/step - loss: 0.4252 - acc: 0.8750\n",
      "Epoch 2/5\n",
      "1400/1400 [==============================] - 1s 731us/step - loss: 0.2214 - acc: 0.9000\n",
      "Epoch 3/5\n",
      "1400/1400 [==============================] - 1s 744us/step - loss: 0.1649 - acc: 0.9000\n",
      "Epoch 4/5\n",
      "1400/1400 [==============================] - 1s 735us/step - loss: 0.1255 - acc: 0.9050\n",
      "Epoch 5/5\n",
      "1400/1400 [==============================] - 1s 732us/step - loss: 0.0972 - acc: 0.9436\n",
      "Training of node 0 complete\n",
      "\n",
      "\n",
      "Training chain node  1\n",
      "Shapes:\n",
      " X = (1400, 5001) \n",
      " Y = (1400, 1)\n",
      "Epoch 1/5\n",
      "1400/1400 [==============================] - 2s 1ms/step - loss: 0.2870 - acc: 0.9700\n",
      "Epoch 2/5\n",
      "1400/1400 [==============================] - 1s 735us/step - loss: 0.0519 - acc: 0.9893\n",
      "Epoch 3/5\n",
      "1400/1400 [==============================] - 1s 747us/step - loss: 0.0274 - acc: 0.9893\n",
      "Epoch 4/5\n",
      "1400/1400 [==============================] - 1s 774us/step - loss: 0.0209 - acc: 0.9893\n",
      "Epoch 5/5\n",
      "1400/1400 [==============================] - 1s 758us/step - loss: 0.0177 - acc: 0.9893\n",
      "Training of node 1 complete\n",
      "\n",
      "\n",
      "Training chain node  2\n",
      "Shapes:\n",
      " X = (1400, 5002) \n",
      " Y = (1400, 1)\n",
      "Epoch 1/5\n",
      "1400/1400 [==============================] - 2s 1ms/step - loss: 0.3487 - acc: 0.9250\n",
      "Epoch 2/5\n",
      "1400/1400 [==============================] - 1s 735us/step - loss: 0.1068 - acc: 0.9421\n",
      "Epoch 3/5\n",
      "1400/1400 [==============================] - 1s 739us/step - loss: 0.0710 - acc: 0.9686\n",
      "Epoch 4/5\n",
      "1400/1400 [==============================] - 1s 740us/step - loss: 0.0463 - acc: 0.9921\n",
      "Epoch 5/5\n",
      "1400/1400 [==============================] - 1s 740us/step - loss: 0.0239 - acc: 0.9943\n",
      "Training of node 2 complete\n",
      "\n",
      "\n",
      "Training chain node  3\n",
      "Shapes:\n",
      " X = (1400, 5003) \n",
      " Y = (1400, 1)\n",
      "Epoch 1/5\n",
      "1400/1400 [==============================] - 2s 1ms/step - loss: 0.2699 - acc: 0.9829\n",
      "Epoch 2/5\n",
      "1400/1400 [==============================] - 1s 738us/step - loss: 0.0274 - acc: 0.9957\n",
      "Epoch 3/5\n",
      "1400/1400 [==============================] - 1s 742us/step - loss: 0.0152 - acc: 0.9957\n",
      "Epoch 4/5\n",
      "1400/1400 [==============================] - 1s 743us/step - loss: 0.0104 - acc: 0.9957\n",
      "Epoch 5/5\n",
      "1400/1400 [==============================] - 1s 786us/step - loss: 0.0084 - acc: 0.9957\n",
      "Training of node 3 complete\n",
      "\n",
      "\n",
      "Training chain node  4\n",
      "Shapes:\n",
      " X = (1400, 5004) \n",
      " Y = (1400, 1)\n",
      "Epoch 1/5\n",
      "1400/1400 [==============================] - 2s 1ms/step - loss: 0.3421 - acc: 0.9300\n",
      "Epoch 2/5\n",
      "1400/1400 [==============================] - 1s 732us/step - loss: 0.0914 - acc: 0.9507\n",
      "Epoch 3/5\n",
      "1400/1400 [==============================] - 1s 733us/step - loss: 0.0634 - acc: 0.9821\n",
      "Epoch 4/5\n",
      "1400/1400 [==============================] - 1s 746us/step - loss: 0.0439 - acc: 0.9843\n",
      "Epoch 5/5\n",
      "1400/1400 [==============================] - 1s 731us/step - loss: 0.0316 - acc: 0.9900\n",
      "Training of node 4 complete\n",
      "\n",
      "\n",
      "Training chain node  5\n",
      "Shapes:\n",
      " X = (1400, 5005) \n",
      " Y = (1400, 1)\n",
      "Epoch 1/5\n",
      "1400/1400 [==============================] - 2s 1ms/step - loss: 0.2770 - acc: 0.9793\n",
      "Epoch 2/5\n",
      "1400/1400 [==============================] - 1s 738us/step - loss: 0.0411 - acc: 0.9914\n",
      "Epoch 3/5\n",
      "1400/1400 [==============================] - 1s 735us/step - loss: 0.0213 - acc: 0.9914\n",
      "Epoch 4/5\n",
      "1400/1400 [==============================] - 1s 731us/step - loss: 0.0178 - acc: 0.9914\n",
      "Epoch 5/5\n",
      "1400/1400 [==============================] - 1s 759us/step - loss: 0.0139 - acc: 0.9914\n",
      "Training of node 5 complete\n",
      "\n",
      "\n"
     ]
    }
   ],
   "source": [
    "#Model chain\n",
    "chain = []\n",
    "\n",
    "#Training\n",
    "X_feed = X_train.copy()\n",
    "for i in range(y_train.shape[1]):\n",
    "    print(\"Training chain node \",i)\n",
    "    y_now = y_train[:,[i,]].copy()\n",
    "    print(\"Shapes:\\n X = {} \\n Y = {}\".format(X_feed.shape,y_now.shape))\n",
    "\n",
    "    node = create_c1node(X_feed,y_now)\n",
    "    node.fit(X_feed,y_now,epochs=5,batch_size=50)\n",
    "    print(\"Training of node {} complete\\n\\n\".format(i))  \n",
    "    #Checking accuracy of the node\n",
    "    #---\n",
    "    #Adding node to chain \n",
    "    chain.append(node)\n",
    "    #Updating X_feed\n",
    "    X_feed = np.append(X_feed,y_now,axis=1)\n"
   ]
  },
  {
   "cell_type": "code",
   "execution_count": 31,
   "metadata": {},
   "outputs": [
    {
     "name": "stdout",
     "output_type": "stream",
     "text": [
      "Getting op from chain node  0\n",
      "Shapes:\n",
      " X = (600, 5000)\n",
      "Getting op from chain node  1\n",
      "Shapes:\n",
      " X = (600, 5001)\n",
      "Getting op from chain node  2\n",
      "Shapes:\n",
      " X = (600, 5002)\n",
      "Getting op from chain node  3\n",
      "Shapes:\n",
      " X = (600, 5003)\n",
      "Getting op from chain node  4\n",
      "Shapes:\n",
      " X = (600, 5004)\n",
      "Getting op from chain node  5\n",
      "Shapes:\n",
      " X = (600, 5005)\n"
     ]
    }
   ],
   "source": [
    "#Model chain\n",
    "y_pred = []\n",
    "\n",
    "X_feed = X_test.copy()\n",
    "i = 0\n",
    "for node in chain:\n",
    "    print(\"Getting op from chain node \",i)\n",
    "    node_name = \"Node\" + str(i)\n",
    "    print(\"Shapes:\\n X = {}\".format(X_feed.shape))\n",
    "    output = node.predict(X_feed)\n",
    "    output = output.round().astype(int)\n",
    "    y_pred.append(output)\n",
    "    X_feed = np.append(X_feed,output,axis=1)\n",
    "    i+=1\n",
    "    #Updating X_feed\n",
    "            "
   ]
  },
  {
   "cell_type": "code",
   "execution_count": 32,
   "metadata": {
    "collapsed": true
   },
   "outputs": [],
   "source": [
    "predictions = np.array([0])\n",
    "for i in y_pred:\n",
    "    x = np.array(i)\n",
    "    if predictions.shape == (1,):\n",
    "        predictions = x\n",
    "    else:\n",
    "        predictions = np.append(predictions,x,axis=1)"
   ]
  },
  {
   "cell_type": "code",
   "execution_count": 33,
   "metadata": {
    "collapsed": true
   },
   "outputs": [],
   "source": [
    "from sklearn.metrics import hamming_loss, log_loss, f1_score,accuracy_score\n"
   ]
  },
  {
   "cell_type": "code",
   "execution_count": 34,
   "metadata": {},
   "outputs": [
    {
     "name": "stdout",
     "output_type": "stream",
     "text": [
      "Accuracy =  0.905\n",
      "Hamming accuracy =  0.913333333333\n",
      "Hamming loss =  0.030555555555555555\n",
      "Log loss =  0.700972282128\n",
      "F1 score =  0.20576903434\n"
     ]
    }
   ],
   "source": [
    "# accuracy\n",
    "print(\"Accuracy = \",accuracy_score(y_test,predictions))\n",
    "print(\"Hamming accuracy = \",hamming_accuracy_score(y_test,predictions))\n",
    "print(\"Hamming loss = \",hamming_loss(y_test,predictions))\n",
    "print(\"Log loss = \",log_loss(y_test,predictions))\n",
    "print(\"F1 score = \",f1_score(y_test,predictions,average='macro'))"
   ]
  },
  {
   "cell_type": "code",
   "execution_count": null,
   "metadata": {
    "collapsed": true
   },
   "outputs": [],
   "source": []
  }
 ],
 "metadata": {
  "kernelspec": {
   "display_name": "Python 3",
   "language": "python",
   "name": "python3"
  },
  "language_info": {
   "codemirror_mode": {
    "name": "ipython",
    "version": 3
   },
   "file_extension": ".py",
   "mimetype": "text/x-python",
   "name": "python",
   "nbconvert_exporter": "python",
   "pygments_lexer": "ipython3",
   "version": "3.6.3"
  }
 },
 "nbformat": 4,
 "nbformat_minor": 2
}
